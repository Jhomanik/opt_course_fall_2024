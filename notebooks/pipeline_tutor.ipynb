{
  "cells": [
    {
      "cell_type": "markdown",
      "id": "799de1a2",
      "metadata": {
        "id": "799de1a2"
      },
      "source": [
        "# Написание методов"
      ]
    },
    {
      "cell_type": "markdown",
      "source": [
        "**Обязательно положите в текущую директорию файлы optimizers.py, run_experiments.py, utils.py**"
      ],
      "metadata": {
        "id": "T2EAFxshxV-W"
      },
      "id": "T2EAFxshxV-W"
    },
    {
      "cell_type": "markdown",
      "id": "f6dd12d2",
      "metadata": {
        "id": "f6dd12d2"
      },
      "source": [
        "Данный ноутбук посвящен освоению методов написания кода в методах оптимизации. Будут рассмотрены два подхода:\n",
        "1. Через функции (хорошо подходит для домашних работ)\n",
        "2. Через класс (хорошо подходит для больших проектов)"
      ]
    },
    {
      "cell_type": "markdown",
      "id": "69ce413a",
      "metadata": {
        "id": "69ce413a"
      },
      "source": [
        "Рассматриваться будет градиентный спуск на квадртичной задаче:\n",
        "$$ \\min_{x \\in \\mathbb{R}^d} f(x) = \\frac{1}{2}x^T A x - b^T x$$"
      ]
    },
    {
      "cell_type": "markdown",
      "id": "d3dd9fd3",
      "metadata": {
        "id": "d3dd9fd3"
      },
      "source": [
        "## Реализация через функции"
      ]
    },
    {
      "cell_type": "code",
      "execution_count": 1,
      "id": "820e9f18",
      "metadata": {
        "ExecuteTime": {
          "end_time": "2024-09-08T17:35:16.419662Z",
          "start_time": "2024-09-08T17:35:16.412900Z"
        },
        "id": "820e9f18"
      },
      "outputs": [],
      "source": [
        "import numpy as np\n",
        "from tqdm.notebook import tqdm\n",
        "from jax import grad\n",
        "from matplotlib import pylab as plt"
      ]
    },
    {
      "cell_type": "markdown",
      "id": "3d466d07",
      "metadata": {
        "id": "3d466d07"
      },
      "source": [
        "`numpy` - библиотека, которая все векторизует;\n",
        "\n",
        "`tqdm`- библиотека для отслеживания вычислений;\n",
        "\n",
        "`jax` - библиотека для автоматического дифференцирования;\n",
        "\n",
        "`matplotlib` - библиотека для отрисовки графиков."
      ]
    },
    {
      "cell_type": "code",
      "execution_count": null,
      "id": "45ac850e",
      "metadata": {
        "ExecuteTime": {
          "end_time": "2024-09-05T15:47:49.471671Z",
          "start_time": "2024-09-05T15:47:49.468675Z"
        },
        "id": "45ac850e"
      },
      "outputs": [],
      "source": [
        "# Генерация матрицы\n",
        "def gen_matrix(d, mu, L, s):\n",
        "\n",
        "    # Your code\n",
        "\n",
        "    return A"
      ]
    },
    {
      "cell_type": "code",
      "execution_count": 2,
      "id": "c434f4fa",
      "metadata": {
        "ExecuteTime": {
          "end_time": "2024-09-08T17:35:21.322380Z",
          "start_time": "2024-09-08T17:35:21.319209Z"
        },
        "id": "c434f4fa"
      },
      "outputs": [],
      "source": [
        "s = 2     # seed\n",
        "L = 1000  # константа Липшица\n",
        "mu = 1    # константа сильной выпуклости\n",
        "d = 1     # размерность пространства"
      ]
    },
    {
      "cell_type": "code",
      "execution_count": 6,
      "id": "3b35b094",
      "metadata": {
        "ExecuteTime": {
          "end_time": "2024-09-08T17:35:21.572271Z",
          "start_time": "2024-09-08T17:35:21.566590Z"
        },
        "id": "3b35b094"
      },
      "outputs": [],
      "source": [
        "# np.random.seed(s)\n",
        "# A = gen_matrix(d, mu, L, s)\n",
        "# b = np.random.sample(d)\n",
        "# x_0 = np.random.sample(d)\n",
        "\n",
        "A = np.asarray([[1.0]])\n",
        "b = np.asarray([10.0])\n",
        "x_0 = np.asarray([100.0])"
      ]
    },
    {
      "cell_type": "code",
      "execution_count": 7,
      "id": "5fa652fb",
      "metadata": {
        "ExecuteTime": {
          "end_time": "2024-09-08T17:35:21.978196Z",
          "start_time": "2024-09-08T17:35:21.973124Z"
        },
        "id": "5fa652fb"
      },
      "outputs": [],
      "source": [
        "# Целевая функция\n",
        "def f(x):\n",
        "    return 1 / 2 * x.T @ A @ x - b.T @ x\n",
        "\n",
        "# Аналитический градиент функции\n",
        "def grad_f_analytical(x):\n",
        "    return A @ x - b\n",
        "\n",
        "# Autograd градиент функции\n",
        "def grad_f_jax(x):\n",
        "    return grad(f)(x)"
      ]
    },
    {
      "cell_type": "code",
      "execution_count": 8,
      "id": "b326b439",
      "metadata": {
        "ExecuteTime": {
          "end_time": "2024-09-08T17:35:23.160955Z",
          "start_time": "2024-09-08T17:35:23.149242Z"
        },
        "colab": {
          "base_uri": "https://localhost:8080/"
        },
        "id": "b326b439",
        "outputId": "a83896f6-cd56-42f5-a4a8-dce29f6bacd7"
      },
      "outputs": [
        {
          "output_type": "stream",
          "name": "stdout",
          "text": [
            "[90.]\n",
            "[90.]\n"
          ]
        }
      ],
      "source": [
        "print(grad_f_analytical(x_0))\n",
        "print(grad_f_jax(x_0))"
      ]
    },
    {
      "cell_type": "code",
      "execution_count": 10,
      "id": "0b3c73f9",
      "metadata": {
        "ExecuteTime": {
          "end_time": "2024-09-08T17:35:24.154080Z",
          "start_time": "2024-09-08T17:35:24.148700Z"
        },
        "id": "0b3c73f9"
      },
      "outputs": [],
      "source": [
        "def GradientDescent(grad, criterion, x_0, eps, max_iter, **params):\n",
        "\n",
        "    '''\n",
        "       grad(x) - функция, которая считает градиент целевой функции;\n",
        "       criterion(x) - функция, которая считает критерий;\n",
        "       x_0 - начальная точка;\n",
        "       eps - точность сходимости (обычно 1e-8);\n",
        "       max_iter - количество итераций;\n",
        "       **params - содержит именнованные гиперпараметры метода:\n",
        "           params['gamma'](k) - шаг, зависящий от номера итерации.\n",
        "    '''\n",
        "\n",
        "    errors = []\n",
        "\n",
        "    x_k = np.copy(x_0)\n",
        "    err_x_0 = criterion(x_k)\n",
        "    errors.append(criterion(x_k) / err_x_0)\n",
        "    for k in tqdm(range(max_iter)):\n",
        "\n",
        "        x_k -= params['gamma'](k) * grad(x_k)\n",
        "\n",
        "        errors.append(criterion(x_k) / err_x_0)\n",
        "        if errors[-1] < eps:\n",
        "            break\n",
        "\n",
        "    return x_k, errors"
      ]
    },
    {
      "cell_type": "code",
      "execution_count": 19,
      "id": "c2db927b",
      "metadata": {
        "ExecuteTime": {
          "end_time": "2024-09-08T17:35:35.594069Z",
          "start_time": "2024-09-08T17:35:35.590435Z"
        },
        "id": "c2db927b"
      },
      "outputs": [],
      "source": [
        "def train(grad, criterion, x_0, eps, max_iter, **gammas):\n",
        "\n",
        "    errors = []\n",
        "\n",
        "    for gamma in gammas['gammas']:\n",
        "        _, error = GradientDescent(grad, criterion, x_0, eps, max_iter, gamma=gamma)\n",
        "        errors.append(error)\n",
        "\n",
        "    return errors"
      ]
    },
    {
      "cell_type": "code",
      "execution_count": 13,
      "id": "26e70fb9",
      "metadata": {
        "ExecuteTime": {
          "end_time": "2024-09-08T17:35:36.228567Z",
          "start_time": "2024-09-08T17:35:36.225510Z"
        },
        "id": "26e70fb9"
      },
      "outputs": [],
      "source": [
        "def criterion(x):\n",
        "    return np.linalg.norm(grad_f_analytical(x))"
      ]
    },
    {
      "cell_type": "code",
      "execution_count": 14,
      "id": "23b2ace9",
      "metadata": {
        "ExecuteTime": {
          "end_time": "2024-09-08T17:35:40.229697Z",
          "start_time": "2024-09-08T17:35:40.226356Z"
        },
        "id": "23b2ace9"
      },
      "outputs": [],
      "source": [
        "def gamma_1(k):\n",
        "    return 1 / 100\n",
        "\n",
        "def gamma_2(k):\n",
        "    return 1 / 50\n",
        "\n",
        "def gamma_3(k):\n",
        "    return 1 / 20"
      ]
    },
    {
      "cell_type": "code",
      "execution_count": 20,
      "id": "dd3cc501",
      "metadata": {
        "ExecuteTime": {
          "end_time": "2024-09-08T17:35:53.674508Z",
          "start_time": "2024-09-08T17:35:53.671248Z"
        },
        "id": "dd3cc501"
      },
      "outputs": [],
      "source": [
        "gammas = [gamma_1, gamma_2, gamma_3]"
      ]
    },
    {
      "cell_type": "code",
      "execution_count": 22,
      "id": "c077e315",
      "metadata": {
        "ExecuteTime": {
          "end_time": "2024-09-08T17:36:36.878258Z",
          "start_time": "2024-09-08T17:36:36.849074Z"
        },
        "scrolled": false,
        "colab": {
          "base_uri": "https://localhost:8080/",
          "height": 113,
          "referenced_widgets": [
            "db8ad8c2332e40919fb804290411cc75",
            "7d0d07bc2ad24e3b9ec102ecdde21aff",
            "f1ecb92516ab42c9951f38c146967ae6",
            "7c48bda91fe24f129d2ed6a28ba2de89",
            "4e869fd99d624a509f1fbdaa098a33dc",
            "2c53a5fdd462414cba3b35ce3bad80e9",
            "94e5e20c67ac4a699c22251ae1fda2ff",
            "fe2ab88ac2e649efb4d11bd6b9601a7e",
            "064e461a526040359e3de2b54d5ea694",
            "f9f9421f6af745f1afc1323185fbc528",
            "0e3c5c40da82461db3a36cf9ea8f79f7",
            "9c6ad00819cb4eeba8a25067ba409918",
            "46113ea727964910828fdbb054c95b9a",
            "fbdd73ecc0f844d4be0c5310bed07539",
            "d99f7244c9a647baaee10225fb929838",
            "af7b0e6a7b644e73869df2f595049d47",
            "02ca8f46f2ad4f13808f7c84e162dc7c",
            "8da4ecc14b354cfdabe7feb949c9724f",
            "71dcb7afaefc418a92dcab5054754ee0",
            "5140e1e481c14181a73a1ecd8eb80124",
            "3ced8c3dd88c48d48810fd3fb4902883",
            "c2117f2a5dfa4000bbdfbea3b377479b",
            "e8b9f4359e8a4baa95e512d8545be800",
            "5f31d4f86f6b4597bed80d7e1b4fe43b",
            "e505c61fc7fb4632b338eec0fbfea473",
            "39e3554eb7054732a981fb099228b6c8",
            "fb2672cbc55a44ca9487cff66fca3d50",
            "68a6876ea9a544f3a7d317a98fd94b60",
            "f3f0ab781873436994ca6416316acd05",
            "1857e223b8b94cd690867bebd2fb8a1a",
            "1f66abb5f28a40fc98efc5067ff86348",
            "c087fe48071b4fc49717e9999a134b8b",
            "563594f99c16410eae280ceb6e22f8a9"
          ]
        },
        "id": "c077e315",
        "outputId": "e65614e9-1098-44b3-bb14-3ecbf1dae834"
      },
      "outputs": [
        {
          "output_type": "display_data",
          "data": {
            "text/plain": [
              "  0%|          | 0/100 [00:00<?, ?it/s]"
            ],
            "application/vnd.jupyter.widget-view+json": {
              "version_major": 2,
              "version_minor": 0,
              "model_id": "db8ad8c2332e40919fb804290411cc75"
            }
          },
          "metadata": {}
        },
        {
          "output_type": "display_data",
          "data": {
            "text/plain": [
              "  0%|          | 0/100 [00:00<?, ?it/s]"
            ],
            "application/vnd.jupyter.widget-view+json": {
              "version_major": 2,
              "version_minor": 0,
              "model_id": "9c6ad00819cb4eeba8a25067ba409918"
            }
          },
          "metadata": {}
        },
        {
          "output_type": "display_data",
          "data": {
            "text/plain": [
              "  0%|          | 0/100 [00:00<?, ?it/s]"
            ],
            "application/vnd.jupyter.widget-view+json": {
              "version_major": 2,
              "version_minor": 0,
              "model_id": "e8b9f4359e8a4baa95e512d8545be800"
            }
          },
          "metadata": {}
        }
      ],
      "source": [
        "errors = train(grad_f_analytical, criterion, x_0, 1e-6, 100, gammas=gammas)"
      ]
    },
    {
      "cell_type": "code",
      "execution_count": 23,
      "id": "c9134e48",
      "metadata": {
        "ExecuteTime": {
          "end_time": "2024-09-08T17:41:51.063251Z",
          "start_time": "2024-09-08T17:41:51.055706Z"
        },
        "id": "c9134e48"
      },
      "outputs": [],
      "source": [
        "labels = [\"1 / 100\", \"1 / 50\", \"1 / 20\"]"
      ]
    },
    {
      "cell_type": "code",
      "execution_count": 24,
      "id": "5bfcc489",
      "metadata": {
        "ExecuteTime": {
          "end_time": "2024-09-08T17:41:51.801193Z",
          "start_time": "2024-09-08T17:41:51.792240Z"
        },
        "id": "5bfcc489"
      },
      "outputs": [],
      "source": [
        "def make_err_plot(errors, labels, title, markers=None, colors=None):\n",
        "\n",
        "    markers = ['o', 'v', 's', 'p', 'x', 'P', 'D', '^', '<', '>']\n",
        "    colors = ['red', 'green', 'blue', 'orange', 'purple', 'cyan', 'black', 'olive', 'pink', 'brown']\n",
        "\n",
        "    x_label = \"Количество итераций\"\n",
        "    y_label = r\"$||\\nabla f(x^k)||$\"\n",
        "\n",
        "    plt.title(title, fontsize=25)\n",
        "    plt.xlabel(x_label, fontsize=25)\n",
        "    plt.ylabel(y_label, fontsize=25)\n",
        "\n",
        "    for error, label, color, marker in zip(errors, labels, colors, markers):\n",
        "        plt.semilogy(np.array(range(len(error))), error, color=color, label='gamma = ' + label, markevery=0.05, marker=marker)\n",
        "\n",
        "    plt.legend(fontsize=17)\n",
        "    plt.grid(True)\n",
        "\n",
        "    plt.show()"
      ]
    },
    {
      "cell_type": "code",
      "execution_count": 25,
      "id": "bc0458d0",
      "metadata": {
        "ExecuteTime": {
          "end_time": "2024-09-08T17:41:52.530314Z",
          "start_time": "2024-09-08T17:41:52.401945Z"
        },
        "colab": {
          "base_uri": "https://localhost:8080/",
          "height": 505
        },
        "id": "bc0458d0",
        "outputId": "a22afd83-9b97-422f-8374-f5d19eef1988"
      },
      "outputs": [
        {
          "output_type": "display_data",
          "data": {
            "text/plain": [
              "<Figure size 640x480 with 1 Axes>"
            ],
            "image/png": "[encoded data removed]"
          },
          "metadata": {}
        }
      ],
      "source": [
        "make_err_plot(errors, labels, \"Градиентный спуск\")"
      ]
    },
    {
      "cell_type": "markdown",
      "id": "3857cfc6",
      "metadata": {
        "id": "3857cfc6"
      },
      "source": [
        "## Реализация через класс"
      ]
    },
    {
      "cell_type": "code",
      "execution_count": 1,
      "id": "3f98c3a1",
      "metadata": {
        "ExecuteTime": {
          "end_time": "2024-09-08T17:43:45.885901Z",
          "start_time": "2024-09-08T17:43:45.626495Z"
        },
        "id": "3f98c3a1"
      },
      "outputs": [],
      "source": [
        "import numpy as np\n",
        "\n",
        "from optimizers import *\n",
        "from utils import *\n",
        "from run_experiments import *"
      ]
    },
    {
      "cell_type": "code",
      "execution_count": 2,
      "id": "01b07410",
      "metadata": {
        "ExecuteTime": {
          "end_time": "2024-09-08T17:43:46.271034Z",
          "start_time": "2024-09-08T17:43:46.266373Z"
        },
        "id": "01b07410"
      },
      "outputs": [],
      "source": [
        "s = 2     # seed\n",
        "L = 1000  # константа Липшица\n",
        "mu = 1    # константа сильной выпуклости\n",
        "d = 1     # размерность пространства\n",
        "func_name = \"Reg\" # имя функции"
      ]
    },
    {
      "cell_type": "code",
      "execution_count": 3,
      "id": "30260b73",
      "metadata": {
        "ExecuteTime": {
          "end_time": "2024-09-08T17:43:46.591000Z",
          "start_time": "2024-09-08T17:43:46.586298Z"
        },
        "id": "30260b73"
      },
      "outputs": [],
      "source": [
        "args = init_experiment(func_name, d=d, seed=s, L=L, mu=mu)\n",
        "\n",
        "# np.random.seed(s)\n",
        "# x_0 = np.random.sample(d)\n",
        "\n",
        "x_0 = np.asarray([100.0])"
      ]
    },
    {
      "cell_type": "code",
      "source": [
        "args"
      ],
      "metadata": {
        "colab": {
          "base_uri": "https://localhost:8080/"
        },
        "id": "LESrqLRTuCLK",
        "outputId": "a3c0a9f5-952a-473f-adc6-bfd27705768b"
      },
      "id": "LESrqLRTuCLK",
      "execution_count": 4,
      "outputs": [
        {
          "output_type": "execute_result",
          "data": {
            "text/plain": [
              "{'func_name': 'Reg',\n",
              " 'A': array([[1.]]),\n",
              " 'b': array([10.]),\n",
              " 'func': <function run_experiments.init_experiment.<locals>.<lambda>(x)>,\n",
              " 'func_grad': <function run_experiments.init_experiment.<locals>.<lambda>(x)>}"
            ]
          },
          "metadata": {},
          "execution_count": 4
        }
      ]
    },
    {
      "cell_type": "code",
      "execution_count": 5,
      "id": "ae9635ce",
      "metadata": {
        "ExecuteTime": {
          "end_time": "2024-09-08T17:43:46.925539Z",
          "start_time": "2024-09-08T17:43:46.921035Z"
        },
        "id": "ae9635ce"
      },
      "outputs": [],
      "source": [
        "def learning_rate_1(k):\n",
        "    return 1 / 100\n",
        "\n",
        "def learning_rate_2(k):\n",
        "    return 1 / 50\n",
        "\n",
        "def learning_rate_3(k):\n",
        "    return 1 / 20"
      ]
    },
    {
      "cell_type": "code",
      "execution_count": 6,
      "id": "453b99e1",
      "metadata": {
        "ExecuteTime": {
          "end_time": "2024-09-08T17:43:47.478208Z",
          "start_time": "2024-09-08T17:43:47.441775Z"
        },
        "colab": {
          "base_uri": "https://localhost:8080/"
        },
        "id": "453b99e1",
        "outputId": "0cfd344b-8638-4a84-c276-4a79ec55225a"
      },
      "outputs": [
        {
          "output_type": "stream",
          "name": "stderr",
          "text": [
            "100%|██████████| 100/100 [00:00<00:00, 35104.65it/s]\n",
            "100%|██████████| 100/100 [00:00<00:00, 45231.36it/s]\n",
            "100%|██████████| 100/100 [00:00<00:00, 44887.67it/s]\n"
          ]
        }
      ],
      "source": [
        "lr_list = [learning_rate_1, learning_rate_2, learning_rate_3]\n",
        "\n",
        "optimizers_list = []\n",
        "for lr in lr_list:\n",
        "    opt = GDOptimizer(args, x_0, max_iter=100, err=\"grad\", gamma=lr)\n",
        "    opt.optimize()\n",
        "    optimizers_list.append(opt)"
      ]
    },
    {
      "cell_type": "code",
      "execution_count": 7,
      "id": "9e2103e5",
      "metadata": {
        "ExecuteTime": {
          "end_time": "2024-09-08T17:43:48.792171Z",
          "start_time": "2024-09-08T17:43:48.538262Z"
        },
        "colab": {
          "base_uri": "https://localhost:8080/",
          "height": 505
        },
        "id": "9e2103e5",
        "outputId": "b841dbe3-752b-4e54-c3b8-cc6d895f3431"
      },
      "outputs": [
        {
          "output_type": "display_data",
          "data": {
            "text/plain": [
              "<Figure size 640x480 with 1 Axes>"
            ],
            "image/png": "[encoded data removed]"
          },
          "metadata": {}
        }
      ],
      "source": [
        "labels = [\"1 / 100\", \"1 / 50\", \"1 / 20\"]\n",
        "make_err_plot(optimizers_list, labels, \"Градиентный спуск\")"
      ]
    }
  ],
  "metadata": {
    "kernelspec": {
      "display_name": "Python 3 (ipykernel)",
      "language": "python",
      "name": "python3"
    },
    "language_info": {
      "codemirror_mode": {
        "name": "ipython",
        "version": 3
      },
      "file_extension": ".py",
      "mimetype": "text/x-python",
      "name": "python",
      "nbconvert_exporter": "python",
      "pygments_lexer": "ipython3",
      "version": "3.11.5"
    },
    "colab": {
      "provenance": []
    },
    "widgets": {
      "application/vnd.jupyter.widget-state+json": {
        "db8ad8c2332e40919fb804290411cc75": {
          "model_module": "@jupyter-widgets/controls",
          "model_name": "HBoxModel",
          "model_module_version": "1.5.0",
          "state": {
            "_dom_classes": [],
            "_model_module": "@jupyter-widgets/controls",
            "_model_module_version": "1.5.0",
            "_model_name": "HBoxModel",
            "_view_count": null,
            "_view_module": "@jupyter-widgets/controls",
            "_view_module_version": "1.5.0",
            "_view_name": "HBoxView",
            "box_style": "",
            "children": [
              "IPY_MODEL_7d0d07bc2ad24e3b9ec102ecdde21aff",
              "IPY_MODEL_f1ecb92516ab42c9951f38c146967ae6",
              "IPY_MODEL_7c48bda91fe24f129d2ed6a28ba2de89"
            ],
            "layout": "IPY_MODEL_4e869fd99d624a509f1fbdaa098a33dc"
          }
        },
        "7d0d07bc2ad24e3b9ec102ecdde21aff": {
          "model_module": "@jupyter-widgets/controls",
          "model_name": "HTMLModel",
          "model_module_version": "1.5.0",
          "state": {
            "_dom_classes": [],
            "_model_module": "@jupyter-widgets/controls",
            "_model_module_version": "1.5.0",
            "_model_name": "HTMLModel",
            "_view_count": null,
            "_view_module": "@jupyter-widgets/controls",
            "_view_module_version": "1.5.0",
            "_view_name": "HTMLView",
            "description": "",
            "description_tooltip": null,
            "layout": "IPY_MODEL_2c53a5fdd462414cba3b35ce3bad80e9",
            "placeholder": "​",
            "style": "IPY_MODEL_94e5e20c67ac4a699c22251ae1fda2ff",
            "value": "100%"
          }
        },
        "f1ecb92516ab42c9951f38c146967ae6": {
          "model_module": "@jupyter-widgets/controls",
          "model_name": "FloatProgressModel",
          "model_module_version": "1.5.0",
          "state": {
            "_dom_classes": [],
            "_model_module": "@jupyter-widgets/controls",
            "_model_module_version": "1.5.0",
            "_model_name": "FloatProgressModel",
            "_view_count": null,
            "_view_module": "@jupyter-widgets/controls",
            "_view_module_version": "1.5.0",
            "_view_name": "ProgressView",
            "bar_style": "success",
            "description": "",
            "description_tooltip": null,
            "layout": "IPY_MODEL_fe2ab88ac2e649efb4d11bd6b9601a7e",
            "max": 100,
            "min": 0,
            "orientation": "horizontal",
            "style": "IPY_MODEL_064e461a526040359e3de2b54d5ea694",
            "value": 100
          }
        },
        "7c48bda91fe24f129d2ed6a28ba2de89": {
          "model_module": "@jupyter-widgets/controls",
          "model_name": "HTMLModel",
          "model_module_version": "1.5.0",
          "state": {
            "_dom_classes": [],
            "_model_module": "@jupyter-widgets/controls",
            "_model_module_version": "1.5.0",
            "_model_name": "HTMLModel",
            "_view_count": null,
            "_view_module": "@jupyter-widgets/controls",
            "_view_module_version": "1.5.0",
            "_view_name": "HTMLView",
            "description": "",
            "description_tooltip": null,
            "layout": "IPY_MODEL_f9f9421f6af745f1afc1323185fbc528",
            "placeholder": "​",
            "style": "IPY_MODEL_0e3c5c40da82461db3a36cf9ea8f79f7",
            "value": " 100/100 [00:00&lt;00:00, 2966.29it/s]"
          }
        },
        "4e869fd99d624a509f1fbdaa098a33dc": {
          "model_module": "@jupyter-widgets/base",
          "model_name": "LayoutModel",
          "model_module_version": "1.2.0",
          "state": {
            "_model_module": "@jupyter-widgets/base",
            "_model_module_version": "1.2.0",
            "_model_name": "LayoutModel",
            "_view_count": null,
            "_view_module": "@jupyter-widgets/base",
            "_view_module_version": "1.2.0",
            "_view_name": "LayoutView",
            "align_content": null,
            "align_items": null,
            "align_self": null,
            "border": null,
            "bottom": null,
            "display": null,
            "flex": null,
            "flex_flow": null,
            "grid_area": null,
            "grid_auto_columns": null,
            "grid_auto_flow": null,
            "grid_auto_rows": null,
            "grid_column": null,
            "grid_gap": null,
            "grid_row": null,
            "grid_template_areas": null,
            "grid_template_columns": null,
            "grid_template_rows": null,
            "height": null,
            "justify_content": null,
            "justify_items": null,
            "left": null,
            "margin": null,
            "max_height": null,
            "max_width": null,
            "min_height": null,
            "min_width": null,
            "object_fit": null,
            "object_position": null,
            "order": null,
            "overflow": null,
            "overflow_x": null,
            "overflow_y": null,
            "padding": null,
            "right": null,
            "top": null,
            "visibility": null,
            "width": null
          }
        },
        "2c53a5fdd462414cba3b35ce3bad80e9": {
          "model_module": "@jupyter-widgets/base",
          "model_name": "LayoutModel",
          "model_module_version": "1.2.0",
          "state": {
            "_model_module": "@jupyter-widgets/base",
            "_model_module_version": "1.2.0",
            "_model_name": "LayoutModel",
            "_view_count": null,
            "_view_module": "@jupyter-widgets/base",
            "_view_module_version": "1.2.0",
            "_view_name": "LayoutView",
            "align_content": null,
            "align_items": null,
            "align_self": null,
            "border": null,
            "bottom": null,
            "display": null,
            "flex": null,
            "flex_flow": null,
            "grid_area": null,
            "grid_auto_columns": null,
            "grid_auto_flow": null,
            "grid_auto_rows": null,
            "grid_column": null,
            "grid_gap": null,
            "grid_row": null,
            "grid_template_areas": null,
            "grid_template_columns": null,
            "grid_template_rows": null,
            "height": null,
            "justify_content": null,
            "justify_items": null,
            "left": null,
            "margin": null,
            "max_height": null,
            "max_width": null,
            "min_height": null,
            "min_width": null,
            "object_fit": null,
            "object_position": null,
            "order": null,
            "overflow": null,
            "overflow_x": null,
            "overflow_y": null,
            "padding": null,
            "right": null,
            "top": null,
            "visibility": null,
            "width": null
          }
        },
        "94e5e20c67ac4a699c22251ae1fda2ff": {
          "model_module": "@jupyter-widgets/controls",
          "model_name": "DescriptionStyleModel",
          "model_module_version": "1.5.0",
          "state": {
            "_model_module": "@jupyter-widgets/controls",
            "_model_module_version": "1.5.0",
            "_model_name": "DescriptionStyleModel",
            "_view_count": null,
            "_view_module": "@jupyter-widgets/base",
            "_view_module_version": "1.2.0",
            "_view_name": "StyleView",
            "description_width": ""
          }
        },
        "fe2ab88ac2e649efb4d11bd6b9601a7e": {
          "model_module": "@jupyter-widgets/base",
          "model_name": "LayoutModel",
          "model_module_version": "1.2.0",
          "state": {
            "_model_module": "@jupyter-widgets/base",
            "_model_module_version": "1.2.0",
            "_model_name": "LayoutModel",
            "_view_count": null,
            "_view_module": "@jupyter-widgets/base",
            "_view_module_version": "1.2.0",
            "_view_name": "LayoutView",
            "align_content": null,
            "align_items": null,
            "align_self": null,
            "border": null,
            "bottom": null,
            "display": null,
            "flex": null,
            "flex_flow": null,
            "grid_area": null,
            "grid_auto_columns": null,
            "grid_auto_flow": null,
            "grid_auto_rows": null,
            "grid_column": null,
            "grid_gap": null,
            "grid_row": null,
            "grid_template_areas": null,
            "grid_template_columns": null,
            "grid_template_rows": null,
            "height": null,
            "justify_content": null,
            "justify_items": null,
            "left": null,
            "margin": null,
            "max_height": null,
            "max_width": null,
            "min_height": null,
            "min_width": null,
            "object_fit": null,
            "object_position": null,
            "order": null,
            "overflow": null,
            "overflow_x": null,
            "overflow_y": null,
            "padding": null,
            "right": null,
            "top": null,
            "visibility": null,
            "width": null
          }
        },
        "064e461a526040359e3de2b54d5ea694": {
          "model_module": "@jupyter-widgets/controls",
          "model_name": "ProgressStyleModel",
          "model_module_version": "1.5.0",
          "state": {
            "_model_module": "@jupyter-widgets/controls",
            "_model_module_version": "1.5.0",
            "_model_name": "ProgressStyleModel",
            "_view_count": null,
            "_view_module": "@jupyter-widgets/base",
            "_view_module_version": "1.2.0",
            "_view_name": "StyleView",
            "bar_color": null,
            "description_width": ""
          }
        },
        "f9f9421f6af745f1afc1323185fbc528": {
          "model_module": "@jupyter-widgets/base",
          "model_name": "LayoutModel",
          "model_module_version": "1.2.0",
          "state": {
            "_model_module": "@jupyter-widgets/base",
            "_model_module_version": "1.2.0",
            "_model_name": "LayoutModel",
            "_view_count": null,
            "_view_module": "@jupyter-widgets/base",
            "_view_module_version": "1.2.0",
            "_view_name": "LayoutView",
            "align_content": null,
            "align_items": null,
            "align_self": null,
            "border": null,
            "bottom": null,
            "display": null,
            "flex": null,
            "flex_flow": null,
            "grid_area": null,
            "grid_auto_columns": null,
            "grid_auto_flow": null,
            "grid_auto_rows": null,
            "grid_column": null,
            "grid_gap": null,
            "grid_row": null,
            "grid_template_areas": null,
            "grid_template_columns": null,
            "grid_template_rows": null,
            "height": null,
            "justify_content": null,
            "justify_items": null,
            "left": null,
            "margin": null,
            "max_height": null,
            "max_width": null,
            "min_height": null,
            "min_width": null,
            "object_fit": null,
            "object_position": null,
            "order": null,
            "overflow": null,
            "overflow_x": null,
            "overflow_y": null,
            "padding": null,
            "right": null,
            "top": null,
            "visibility": null,
            "width": null
          }
        },
        "0e3c5c40da82461db3a36cf9ea8f79f7": {
          "model_module": "@jupyter-widgets/controls",
          "model_name": "DescriptionStyleModel",
          "model_module_version": "1.5.0",
          "state": {
            "_model_module": "@jupyter-widgets/controls",
            "_model_module_version": "1.5.0",
            "_model_name": "DescriptionStyleModel",
            "_view_count": null,
            "_view_module": "@jupyter-widgets/base",
            "_view_module_version": "1.2.0",
            "_view_name": "StyleView",
            "description_width": ""
          }
        },
        "9c6ad00819cb4eeba8a25067ba409918": {
          "model_module": "@jupyter-widgets/controls",
          "model_name": "HBoxModel",
          "model_module_version": "1.5.0",
          "state": {
            "_dom_classes": [],
            "_model_module": "@jupyter-widgets/controls",
            "_model_module_version": "1.5.0",
            "_model_name": "HBoxModel",
            "_view_count": null,
            "_view_module": "@jupyter-widgets/controls",
            "_view_module_version": "1.5.0",
            "_view_name": "HBoxView",
            "box_style": "",
            "children": [
              "IPY_MODEL_46113ea727964910828fdbb054c95b9a",
              "IPY_MODEL_fbdd73ecc0f844d4be0c5310bed07539",
              "IPY_MODEL_d99f7244c9a647baaee10225fb929838"
            ],
            "layout": "IPY_MODEL_af7b0e6a7b644e73869df2f595049d47"
          }
        },
        "46113ea727964910828fdbb054c95b9a": {
          "model_module": "@jupyter-widgets/controls",
          "model_name": "HTMLModel",
          "model_module_version": "1.5.0",
          "state": {
            "_dom_classes": [],
            "_model_module": "@jupyter-widgets/controls",
            "_model_module_version": "1.5.0",
            "_model_name": "HTMLModel",
            "_view_count": null,
            "_view_module": "@jupyter-widgets/controls",
            "_view_module_version": "1.5.0",
            "_view_name": "HTMLView",
            "description": "",
            "description_tooltip": null,
            "layout": "IPY_MODEL_02ca8f46f2ad4f13808f7c84e162dc7c",
            "placeholder": "​",
            "style": "IPY_MODEL_8da4ecc14b354cfdabe7feb949c9724f",
            "value": "100%"
          }
        },
        "fbdd73ecc0f844d4be0c5310bed07539": {
          "model_module": "@jupyter-widgets/controls",
          "model_name": "FloatProgressModel",
          "model_module_version": "1.5.0",
          "state": {
            "_dom_classes": [],
            "_model_module": "@jupyter-widgets/controls",
            "_model_module_version": "1.5.0",
            "_model_name": "FloatProgressModel",
            "_view_count": null,
            "_view_module": "@jupyter-widgets/controls",
            "_view_module_version": "1.5.0",
            "_view_name": "ProgressView",
            "bar_style": "success",
            "description": "",
            "description_tooltip": null,
            "layout": "IPY_MODEL_71dcb7afaefc418a92dcab5054754ee0",
            "max": 100,
            "min": 0,
            "orientation": "horizontal",
            "style": "IPY_MODEL_5140e1e481c14181a73a1ecd8eb80124",
            "value": 100
          }
        },
        "d99f7244c9a647baaee10225fb929838": {
          "model_module": "@jupyter-widgets/controls",
          "model_name": "HTMLModel",
          "model_module_version": "1.5.0",
          "state": {
            "_dom_classes": [],
            "_model_module": "@jupyter-widgets/controls",
            "_model_module_version": "1.5.0",
            "_model_name": "HTMLModel",
            "_view_count": null,
            "_view_module": "@jupyter-widgets/controls",
            "_view_module_version": "1.5.0",
            "_view_name": "HTMLView",
            "description": "",
            "description_tooltip": null,
            "layout": "IPY_MODEL_3ced8c3dd88c48d48810fd3fb4902883",
            "placeholder": "​",
            "style": "IPY_MODEL_c2117f2a5dfa4000bbdfbea3b377479b",
            "value": " 100/100 [00:00&lt;00:00, 3924.83it/s]"
          }
        },
        "af7b0e6a7b644e73869df2f595049d47": {
          "model_module": "@jupyter-widgets/base",
          "model_name": "LayoutModel",
          "model_module_version": "1.2.0",
          "state": {
            "_model_module": "@jupyter-widgets/base",
            "_model_module_version": "1.2.0",
            "_model_name": "LayoutModel",
            "_view_count": null,
            "_view_module": "@jupyter-widgets/base",
            "_view_module_version": "1.2.0",
            "_view_name": "LayoutView",
            "align_content": null,
            "align_items": null,
            "align_self": null,
            "border": null,
            "bottom": null,
            "display": null,
            "flex": null,
            "flex_flow": null,
            "grid_area": null,
            "grid_auto_columns": null,
            "grid_auto_flow": null,
            "grid_auto_rows": null,
            "grid_column": null,
            "grid_gap": null,
            "grid_row": null,
            "grid_template_areas": null,
            "grid_template_columns": null,
            "grid_template_rows": null,
            "height": null,
            "justify_content": null,
            "justify_items": null,
            "left": null,
            "margin": null,
            "max_height": null,
            "max_width": null,
            "min_height": null,
            "min_width": null,
            "object_fit": null,
            "object_position": null,
            "order": null,
            "overflow": null,
            "overflow_x": null,
            "overflow_y": null,
            "padding": null,
            "right": null,
            "top": null,
            "visibility": null,
            "width": null
          }
        },
        "02ca8f46f2ad4f13808f7c84e162dc7c": {
          "model_module": "@jupyter-widgets/base",
          "model_name": "LayoutModel",
          "model_module_version": "1.2.0",
          "state": {
            "_model_module": "@jupyter-widgets/base",
            "_model_module_version": "1.2.0",
            "_model_name": "LayoutModel",
            "_view_count": null,
            "_view_module": "@jupyter-widgets/base",
            "_view_module_version": "1.2.0",
            "_view_name": "LayoutView",
            "align_content": null,
            "align_items": null,
            "align_self": null,
            "border": null,
            "bottom": null,
            "display": null,
            "flex": null,
            "flex_flow": null,
            "grid_area": null,
            "grid_auto_columns": null,
            "grid_auto_flow": null,
            "grid_auto_rows": null,
            "grid_column": null,
            "grid_gap": null,
            "grid_row": null,
            "grid_template_areas": null,
            "grid_template_columns": null,
            "grid_template_rows": null,
            "height": null,
            "justify_content": null,
            "justify_items": null,
            "left": null,
            "margin": null,
            "max_height": null,
            "max_width": null,
            "min_height": null,
            "min_width": null,
            "object_fit": null,
            "object_position": null,
            "order": null,
            "overflow": null,
            "overflow_x": null,
            "overflow_y": null,
            "padding": null,
            "right": null,
            "top": null,
            "visibility": null,
            "width": null
          }
        },
        "8da4ecc14b354cfdabe7feb949c9724f": {
          "model_module": "@jupyter-widgets/controls",
          "model_name": "DescriptionStyleModel",
          "model_module_version": "1.5.0",
          "state": {
            "_model_module": "@jupyter-widgets/controls",
            "_model_module_version": "1.5.0",
            "_model_name": "DescriptionStyleModel",
            "_view_count": null,
            "_view_module": "@jupyter-widgets/base",
            "_view_module_version": "1.2.0",
            "_view_name": "StyleView",
            "description_width": ""
          }
        },
        "71dcb7afaefc418a92dcab5054754ee0": {
          "model_module": "@jupyter-widgets/base",
          "model_name": "LayoutModel",
          "model_module_version": "1.2.0",
          "state": {
            "_model_module": "@jupyter-widgets/base",
            "_model_module_version": "1.2.0",
            "_model_name": "LayoutModel",
            "_view_count": null,
            "_view_module": "@jupyter-widgets/base",
            "_view_module_version": "1.2.0",
            "_view_name": "LayoutView",
            "align_content": null,
            "align_items": null,
            "align_self": null,
            "border": null,
            "bottom": null,
            "display": null,
            "flex": null,
            "flex_flow": null,
            "grid_area": null,
            "grid_auto_columns": null,
            "grid_auto_flow": null,
            "grid_auto_rows": null,
            "grid_column": null,
            "grid_gap": null,
            "grid_row": null,
            "grid_template_areas": null,
            "grid_template_columns": null,
            "grid_template_rows": null,
            "height": null,
            "justify_content": null,
            "justify_items": null,
            "left": null,
            "margin": null,
            "max_height": null,
            "max_width": null,
            "min_height": null,
            "min_width": null,
            "object_fit": null,
            "object_position": null,
            "order": null,
            "overflow": null,
            "overflow_x": null,
            "overflow_y": null,
            "padding": null,
            "right": null,
            "top": null,
            "visibility": null,
            "width": null
          }
        },
        "5140e1e481c14181a73a1ecd8eb80124": {
          "model_module": "@jupyter-widgets/controls",
          "model_name": "ProgressStyleModel",
          "model_module_version": "1.5.0",
          "state": {
            "_model_module": "@jupyter-widgets/controls",
            "_model_module_version": "1.5.0",
            "_model_name": "ProgressStyleModel",
            "_view_count": null,
            "_view_module": "@jupyter-widgets/base",
            "_view_module_version": "1.2.0",
            "_view_name": "StyleView",
            "bar_color": null,
            "description_width": ""
          }
        },
        "3ced8c3dd88c48d48810fd3fb4902883": {
          "model_module": "@jupyter-widgets/base",
          "model_name": "LayoutModel",
          "model_module_version": "1.2.0",
          "state": {
            "_model_module": "@jupyter-widgets/base",
            "_model_module_version": "1.2.0",
            "_model_name": "LayoutModel",
            "_view_count": null,
            "_view_module": "@jupyter-widgets/base",
            "_view_module_version": "1.2.0",
            "_view_name": "LayoutView",
            "align_content": null,
            "align_items": null,
            "align_self": null,
            "border": null,
            "bottom": null,
            "display": null,
            "flex": null,
            "flex_flow": null,
            "grid_area": null,
            "grid_auto_columns": null,
            "grid_auto_flow": null,
            "grid_auto_rows": null,
            "grid_column": null,
            "grid_gap": null,
            "grid_row": null,
            "grid_template_areas": null,
            "grid_template_columns": null,
            "grid_template_rows": null,
            "height": null,
            "justify_content": null,
            "justify_items": null,
            "left": null,
            "margin": null,
            "max_height": null,
            "max_width": null,
            "min_height": null,
            "min_width": null,
            "object_fit": null,
            "object_position": null,
            "order": null,
            "overflow": null,
            "overflow_x": null,
            "overflow_y": null,
            "padding": null,
            "right": null,
            "top": null,
            "visibility": null,
            "width": null
          }
        },
        "c2117f2a5dfa4000bbdfbea3b377479b": {
          "model_module": "@jupyter-widgets/controls",
          "model_name": "DescriptionStyleModel",
          "model_module_version": "1.5.0",
          "state": {
            "_model_module": "@jupyter-widgets/controls",
            "_model_module_version": "1.5.0",
            "_model_name": "DescriptionStyleModel",
            "_view_count": null,
            "_view_module": "@jupyter-widgets/base",
            "_view_module_version": "1.2.0",
            "_view_name": "StyleView",
            "description_width": ""
          }
        },
        "e8b9f4359e8a4baa95e512d8545be800": {
          "model_module": "@jupyter-widgets/controls",
          "model_name": "HBoxModel",
          "model_module_version": "1.5.0",
          "state": {
            "_dom_classes": [],
            "_model_module": "@jupyter-widgets/controls",
            "_model_module_version": "1.5.0",
            "_model_name": "HBoxModel",
            "_view_count": null,
            "_view_module": "@jupyter-widgets/controls",
            "_view_module_version": "1.5.0",
            "_view_name": "HBoxView",
            "box_style": "",
            "children": [
              "IPY_MODEL_5f31d4f86f6b4597bed80d7e1b4fe43b",
              "IPY_MODEL_e505c61fc7fb4632b338eec0fbfea473",
              "IPY_MODEL_39e3554eb7054732a981fb099228b6c8"
            ],
            "layout": "IPY_MODEL_fb2672cbc55a44ca9487cff66fca3d50"
          }
        },
        "5f31d4f86f6b4597bed80d7e1b4fe43b": {
          "model_module": "@jupyter-widgets/controls",
          "model_name": "HTMLModel",
          "model_module_version": "1.5.0",
          "state": {
            "_dom_classes": [],
            "_model_module": "@jupyter-widgets/controls",
            "_model_module_version": "1.5.0",
            "_model_name": "HTMLModel",
            "_view_count": null,
            "_view_module": "@jupyter-widgets/controls",
            "_view_module_version": "1.5.0",
            "_view_name": "HTMLView",
            "description": "",
            "description_tooltip": null,
            "layout": "IPY_MODEL_68a6876ea9a544f3a7d317a98fd94b60",
            "placeholder": "​",
            "style": "IPY_MODEL_f3f0ab781873436994ca6416316acd05",
            "value": "100%"
          }
        },
        "e505c61fc7fb4632b338eec0fbfea473": {
          "model_module": "@jupyter-widgets/controls",
          "model_name": "FloatProgressModel",
          "model_module_version": "1.5.0",
          "state": {
            "_dom_classes": [],
            "_model_module": "@jupyter-widgets/controls",
            "_model_module_version": "1.5.0",
            "_model_name": "FloatProgressModel",
            "_view_count": null,
            "_view_module": "@jupyter-widgets/controls",
            "_view_module_version": "1.5.0",
            "_view_name": "ProgressView",
            "bar_style": "success",
            "description": "",
            "description_tooltip": null,
            "layout": "IPY_MODEL_1857e223b8b94cd690867bebd2fb8a1a",
            "max": 100,
            "min": 0,
            "orientation": "horizontal",
            "style": "IPY_MODEL_1f66abb5f28a40fc98efc5067ff86348",
            "value": 100
          }
        },
        "39e3554eb7054732a981fb099228b6c8": {
          "model_module": "@jupyter-widgets/controls",
          "model_name": "HTMLModel",
          "model_module_version": "1.5.0",
          "state": {
            "_dom_classes": [],
            "_model_module": "@jupyter-widgets/controls",
            "_model_module_version": "1.5.0",
            "_model_name": "HTMLModel",
            "_view_count": null,
            "_view_module": "@jupyter-widgets/controls",
            "_view_module_version": "1.5.0",
            "_view_name": "HTMLView",
            "description": "",
            "description_tooltip": null,
            "layout": "IPY_MODEL_c087fe48071b4fc49717e9999a134b8b",
            "placeholder": "​",
            "style": "IPY_MODEL_563594f99c16410eae280ceb6e22f8a9",
            "value": " 100/100 [00:00&lt;00:00, 3961.90it/s]"
          }
        },
        "fb2672cbc55a44ca9487cff66fca3d50": {
          "model_module": "@jupyter-widgets/base",
          "model_name": "LayoutModel",
          "model_module_version": "1.2.0",
          "state": {
            "_model_module": "@jupyter-widgets/base",
            "_model_module_version": "1.2.0",
            "_model_name": "LayoutModel",
            "_view_count": null,
            "_view_module": "@jupyter-widgets/base",
            "_view_module_version": "1.2.0",
            "_view_name": "LayoutView",
            "align_content": null,
            "align_items": null,
            "align_self": null,
            "border": null,
            "bottom": null,
            "display": null,
            "flex": null,
            "flex_flow": null,
            "grid_area": null,
            "grid_auto_columns": null,
            "grid_auto_flow": null,
            "grid_auto_rows": null,
            "grid_column": null,
            "grid_gap": null,
            "grid_row": null,
            "grid_template_areas": null,
            "grid_template_columns": null,
            "grid_template_rows": null,
            "height": null,
            "justify_content": null,
            "justify_items": null,
            "left": null,
            "margin": null,
            "max_height": null,
            "max_width": null,
            "min_height": null,
            "min_width": null,
            "object_fit": null,
            "object_position": null,
            "order": null,
            "overflow": null,
            "overflow_x": null,
            "overflow_y": null,
            "padding": null,
            "right": null,
            "top": null,
            "visibility": null,
            "width": null
          }
        },
        "68a6876ea9a544f3a7d317a98fd94b60": {
          "model_module": "@jupyter-widgets/base",
          "model_name": "LayoutModel",
          "model_module_version": "1.2.0",
          "state": {
            "_model_module": "@jupyter-widgets/base",
            "_model_module_version": "1.2.0",
            "_model_name": "LayoutModel",
            "_view_count": null,
            "_view_module": "@jupyter-widgets/base",
            "_view_module_version": "1.2.0",
            "_view_name": "LayoutView",
            "align_content": null,
            "align_items": null,
            "align_self": null,
            "border": null,
            "bottom": null,
            "display": null,
            "flex": null,
            "flex_flow": null,
            "grid_area": null,
            "grid_auto_columns": null,
            "grid_auto_flow": null,
            "grid_auto_rows": null,
            "grid_column": null,
            "grid_gap": null,
            "grid_row": null,
            "grid_template_areas": null,
            "grid_template_columns": null,
            "grid_template_rows": null,
            "height": null,
            "justify_content": null,
            "justify_items": null,
            "left": null,
            "margin": null,
            "max_height": null,
            "max_width": null,
            "min_height": null,
            "min_width": null,
            "object_fit": null,
            "object_position": null,
            "order": null,
            "overflow": null,
            "overflow_x": null,
            "overflow_y": null,
            "padding": null,
            "right": null,
            "top": null,
            "visibility": null,
            "width": null
          }
        },
        "f3f0ab781873436994ca6416316acd05": {
          "model_module": "@jupyter-widgets/controls",
          "model_name": "DescriptionStyleModel",
          "model_module_version": "1.5.0",
          "state": {
            "_model_module": "@jupyter-widgets/controls",
            "_model_module_version": "1.5.0",
            "_model_name": "DescriptionStyleModel",
            "_view_count": null,
            "_view_module": "@jupyter-widgets/base",
            "_view_module_version": "1.2.0",
            "_view_name": "StyleView",
            "description_width": ""
          }
        },
        "1857e223b8b94cd690867bebd2fb8a1a": {
          "model_module": "@jupyter-widgets/base",
          "model_name": "LayoutModel",
          "model_module_version": "1.2.0",
          "state": {
            "_model_module": "@jupyter-widgets/base",
            "_model_module_version": "1.2.0",
            "_model_name": "LayoutModel",
            "_view_count": null,
            "_view_module": "@jupyter-widgets/base",
            "_view_module_version": "1.2.0",
            "_view_name": "LayoutView",
            "align_content": null,
            "align_items": null,
            "align_self": null,
            "border": null,
            "bottom": null,
            "display": null,
            "flex": null,
            "flex_flow": null,
            "grid_area": null,
            "grid_auto_columns": null,
            "grid_auto_flow": null,
            "grid_auto_rows": null,
            "grid_column": null,
            "grid_gap": null,
            "grid_row": null,
            "grid_template_areas": null,
            "grid_template_columns": null,
            "grid_template_rows": null,
            "height": null,
            "justify_content": null,
            "justify_items": null,
            "left": null,
            "margin": null,
            "max_height": null,
            "max_width": null,
            "min_height": null,
            "min_width": null,
            "object_fit": null,
            "object_position": null,
            "order": null,
            "overflow": null,
            "overflow_x": null,
            "overflow_y": null,
            "padding": null,
            "right": null,
            "top": null,
            "visibility": null,
            "width": null
          }
        },
        "1f66abb5f28a40fc98efc5067ff86348": {
          "model_module": "@jupyter-widgets/controls",
          "model_name": "ProgressStyleModel",
          "model_module_version": "1.5.0",
          "state": {
            "_model_module": "@jupyter-widgets/controls",
            "_model_module_version": "1.5.0",
            "_model_name": "ProgressStyleModel",
            "_view_count": null,
            "_view_module": "@jupyter-widgets/base",
            "_view_module_version": "1.2.0",
            "_view_name": "StyleView",
            "bar_color": null,
            "description_width": ""
          }
        },
        "c087fe48071b4fc49717e9999a134b8b": {
          "model_module": "@jupyter-widgets/base",
          "model_name": "LayoutModel",
          "model_module_version": "1.2.0",
          "state": {
            "_model_module": "@jupyter-widgets/base",
            "_model_module_version": "1.2.0",
            "_model_name": "LayoutModel",
            "_view_count": null,
            "_view_module": "@jupyter-widgets/base",
            "_view_module_version": "1.2.0",
            "_view_name": "LayoutView",
            "align_content": null,
            "align_items": null,
            "align_self": null,
            "border": null,
            "bottom": null,
            "display": null,
            "flex": null,
            "flex_flow": null,
            "grid_area": null,
            "grid_auto_columns": null,
            "grid_auto_flow": null,
            "grid_auto_rows": null,
            "grid_column": null,
            "grid_gap": null,
            "grid_row": null,
            "grid_template_areas": null,
            "grid_template_columns": null,
            "grid_template_rows": null,
            "height": null,
            "justify_content": null,
            "justify_items": null,
            "left": null,
            "margin": null,
            "max_height": null,
            "max_width": null,
            "min_height": null,
            "min_width": null,
            "object_fit": null,
            "object_position": null,
            "order": null,
            "overflow": null,
            "overflow_x": null,
            "overflow_y": null,
            "padding": null,
            "right": null,
            "top": null,
            "visibility": null,
            "width": null
          }
        },
        "563594f99c16410eae280ceb6e22f8a9": {
          "model_module": "@jupyter-widgets/controls",
          "model_name": "DescriptionStyleModel",
          "model_module_version": "1.5.0",
          "state": {
            "_model_module": "@jupyter-widgets/controls",
            "_model_module_version": "1.5.0",
            "_model_name": "DescriptionStyleModel",
            "_view_count": null,
            "_view_module": "@jupyter-widgets/base",
            "_view_module_version": "1.2.0",
            "_view_name": "StyleView",
            "description_width": ""
          }
        }
      }
    }
  },
  "nbformat": 4,
  "nbformat_minor": 5
}